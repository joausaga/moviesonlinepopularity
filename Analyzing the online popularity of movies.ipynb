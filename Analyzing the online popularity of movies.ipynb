{
 "cells": [
  {
   "cell_type": "markdown",
   "metadata": {},
   "source": [
    "# Project: Analyzing the online popularity of movies\n",
    "\n",
    "## Table of Contents\n",
    "<ul>\n",
    "<li><a href=\"#intro\">Introduction</a></li>\n",
    "<li><a href=\"#wrangling\">Data Wrangling</a></li>\n",
    "<li><a href=\"#eda\">Exploratory Data Analysis</a></li>\n",
    "<li><a href=\"#conclusions\">Conclusions</a></li>\n",
    "</ul>"
   ]
  },
  {
   "cell_type": "markdown",
   "metadata": {},
   "source": [
    "<a id='intro'></a>\n",
    "## Introduction\n",
    "\n",
    "The dataset in which this project is based on contains information about 10,000 movies collected from The Movie Database (TMDb). Among others, it includes data about the movies' popularity, budget, revenue, title, cast, runtime, genre, production, release date, online vote count and average.\n",
    "\n",
    "The central questions we want to answer in this project are:\n",
    "- Is there a correlation between the offline popularity of a movie and its popularity in TMDb?\n",
    "- Which are the properties of the most high-rated movies in TMDb?"
   ]
  },
  {
   "cell_type": "markdown",
   "metadata": {},
   "source": [
    "<a id='wrangling'></a>\n",
    "## Data Wrangling\n",
    "\n",
    "### General Properties"
   ]
  },
  {
   "cell_type": "code",
   "execution_count": 1,
   "metadata": {
    "collapsed": true
   },
   "outputs": [],
   "source": [
    "%matplotlib inline\n",
    "\n",
    "# Importing libraries\n",
    "import pandas as pd\n",
    "import numpy as np\n",
    "import matplotlib.pyplot as plt\n",
    "import seaborn as sns\n",
    "\n",
    "plt.style.use('seaborn')"
   ]
  },
  {
   "cell_type": "code",
   "execution_count": 2,
   "metadata": {
    "collapsed": false
   },
   "outputs": [
    {
     "name": "stdout",
     "output_type": "stream",
     "text": [
      "Columns of the dataset\n",
      "\n",
      "Index(['id', 'imdb_id', 'popularity', 'budget', 'revenue', 'original_title',\n",
      "       'cast', 'homepage', 'director', 'tagline', 'keywords', 'overview',\n",
      "       'runtime', 'genres', 'production_companies', 'release_date',\n",
      "       'vote_count', 'vote_average', 'release_year', 'budget_adj',\n",
      "       'revenue_adj'],\n",
      "      dtype='object')\n",
      "\n"
     ]
    },
    {
     "data": {
      "text/html": [
       "<div>\n",
       "<table border=\"1\" class=\"dataframe\">\n",
       "  <thead>\n",
       "    <tr style=\"text-align: right;\">\n",
       "      <th></th>\n",
       "      <th>id</th>\n",
       "      <th>imdb_id</th>\n",
       "      <th>popularity</th>\n",
       "      <th>budget</th>\n",
       "      <th>revenue</th>\n",
       "      <th>original_title</th>\n",
       "      <th>cast</th>\n",
       "      <th>homepage</th>\n",
       "      <th>director</th>\n",
       "      <th>tagline</th>\n",
       "      <th>...</th>\n",
       "      <th>overview</th>\n",
       "      <th>runtime</th>\n",
       "      <th>genres</th>\n",
       "      <th>production_companies</th>\n",
       "      <th>release_date</th>\n",
       "      <th>vote_count</th>\n",
       "      <th>vote_average</th>\n",
       "      <th>release_year</th>\n",
       "      <th>budget_adj</th>\n",
       "      <th>revenue_adj</th>\n",
       "    </tr>\n",
       "  </thead>\n",
       "  <tbody>\n",
       "    <tr>\n",
       "      <th>0</th>\n",
       "      <td>135397</td>\n",
       "      <td>tt0369610</td>\n",
       "      <td>32.985763</td>\n",
       "      <td>150000000</td>\n",
       "      <td>1513528810</td>\n",
       "      <td>Jurassic World</td>\n",
       "      <td>Chris Pratt|Bryce Dallas Howard|Irrfan Khan|Vi...</td>\n",
       "      <td>http://www.jurassicworld.com/</td>\n",
       "      <td>Colin Trevorrow</td>\n",
       "      <td>The park is open.</td>\n",
       "      <td>...</td>\n",
       "      <td>Twenty-two years after the events of Jurassic ...</td>\n",
       "      <td>124</td>\n",
       "      <td>Action|Adventure|Science Fiction|Thriller</td>\n",
       "      <td>Universal Studios|Amblin Entertainment|Legenda...</td>\n",
       "      <td>6/9/15</td>\n",
       "      <td>5562</td>\n",
       "      <td>6.5</td>\n",
       "      <td>2015</td>\n",
       "      <td>1.379999e+08</td>\n",
       "      <td>1.392446e+09</td>\n",
       "    </tr>\n",
       "    <tr>\n",
       "      <th>1</th>\n",
       "      <td>76341</td>\n",
       "      <td>tt1392190</td>\n",
       "      <td>28.419936</td>\n",
       "      <td>150000000</td>\n",
       "      <td>378436354</td>\n",
       "      <td>Mad Max: Fury Road</td>\n",
       "      <td>Tom Hardy|Charlize Theron|Hugh Keays-Byrne|Nic...</td>\n",
       "      <td>http://www.madmaxmovie.com/</td>\n",
       "      <td>George Miller</td>\n",
       "      <td>What a Lovely Day.</td>\n",
       "      <td>...</td>\n",
       "      <td>An apocalyptic story set in the furthest reach...</td>\n",
       "      <td>120</td>\n",
       "      <td>Action|Adventure|Science Fiction|Thriller</td>\n",
       "      <td>Village Roadshow Pictures|Kennedy Miller Produ...</td>\n",
       "      <td>5/13/15</td>\n",
       "      <td>6185</td>\n",
       "      <td>7.1</td>\n",
       "      <td>2015</td>\n",
       "      <td>1.379999e+08</td>\n",
       "      <td>3.481613e+08</td>\n",
       "    </tr>\n",
       "    <tr>\n",
       "      <th>2</th>\n",
       "      <td>262500</td>\n",
       "      <td>tt2908446</td>\n",
       "      <td>13.112507</td>\n",
       "      <td>110000000</td>\n",
       "      <td>295238201</td>\n",
       "      <td>Insurgent</td>\n",
       "      <td>Shailene Woodley|Theo James|Kate Winslet|Ansel...</td>\n",
       "      <td>http://www.thedivergentseries.movie/#insurgent</td>\n",
       "      <td>Robert Schwentke</td>\n",
       "      <td>One Choice Can Destroy You</td>\n",
       "      <td>...</td>\n",
       "      <td>Beatrice Prior must confront her inner demons ...</td>\n",
       "      <td>119</td>\n",
       "      <td>Adventure|Science Fiction|Thriller</td>\n",
       "      <td>Summit Entertainment|Mandeville Films|Red Wago...</td>\n",
       "      <td>3/18/15</td>\n",
       "      <td>2480</td>\n",
       "      <td>6.3</td>\n",
       "      <td>2015</td>\n",
       "      <td>1.012000e+08</td>\n",
       "      <td>2.716190e+08</td>\n",
       "    </tr>\n",
       "  </tbody>\n",
       "</table>\n",
       "<p>3 rows × 21 columns</p>\n",
       "</div>"
      ],
      "text/plain": [
       "       id    imdb_id  popularity     budget     revenue      original_title  \\\n",
       "0  135397  tt0369610   32.985763  150000000  1513528810      Jurassic World   \n",
       "1   76341  tt1392190   28.419936  150000000   378436354  Mad Max: Fury Road   \n",
       "2  262500  tt2908446   13.112507  110000000   295238201           Insurgent   \n",
       "\n",
       "                                                cast  \\\n",
       "0  Chris Pratt|Bryce Dallas Howard|Irrfan Khan|Vi...   \n",
       "1  Tom Hardy|Charlize Theron|Hugh Keays-Byrne|Nic...   \n",
       "2  Shailene Woodley|Theo James|Kate Winslet|Ansel...   \n",
       "\n",
       "                                         homepage          director  \\\n",
       "0                   http://www.jurassicworld.com/   Colin Trevorrow   \n",
       "1                     http://www.madmaxmovie.com/     George Miller   \n",
       "2  http://www.thedivergentseries.movie/#insurgent  Robert Schwentke   \n",
       "\n",
       "                      tagline      ...       \\\n",
       "0           The park is open.      ...        \n",
       "1          What a Lovely Day.      ...        \n",
       "2  One Choice Can Destroy You      ...        \n",
       "\n",
       "                                            overview runtime  \\\n",
       "0  Twenty-two years after the events of Jurassic ...     124   \n",
       "1  An apocalyptic story set in the furthest reach...     120   \n",
       "2  Beatrice Prior must confront her inner demons ...     119   \n",
       "\n",
       "                                      genres  \\\n",
       "0  Action|Adventure|Science Fiction|Thriller   \n",
       "1  Action|Adventure|Science Fiction|Thriller   \n",
       "2         Adventure|Science Fiction|Thriller   \n",
       "\n",
       "                                production_companies release_date vote_count  \\\n",
       "0  Universal Studios|Amblin Entertainment|Legenda...       6/9/15       5562   \n",
       "1  Village Roadshow Pictures|Kennedy Miller Produ...      5/13/15       6185   \n",
       "2  Summit Entertainment|Mandeville Films|Red Wago...      3/18/15       2480   \n",
       "\n",
       "   vote_average  release_year    budget_adj   revenue_adj  \n",
       "0           6.5          2015  1.379999e+08  1.392446e+09  \n",
       "1           7.1          2015  1.379999e+08  3.481613e+08  \n",
       "2           6.3          2015  1.012000e+08  2.716190e+08  \n",
       "\n",
       "[3 rows x 21 columns]"
      ]
     },
     "execution_count": 2,
     "metadata": {},
     "output_type": "execute_result"
    }
   ],
   "source": [
    "# Load the data\n",
    "movies = pd.read_csv('tmdb-movies.csv')\n",
    "\n",
    "# Print out the name of the columns\n",
    "print('Columns of the dataset')\n",
    "print()\n",
    "print(movies.columns)\n",
    "print()\n",
    "# Print out a few lines.\n",
    "movies.head(3)"
   ]
  },
  {
   "cell_type": "code",
   "execution_count": 3,
   "metadata": {
    "collapsed": false
   },
   "outputs": [
    {
     "name": "stdout",
     "output_type": "stream",
     "text": [
      "\n",
      "Properties of the original data frame. Rows: 10866, Columns: 21\n"
     ]
    }
   ],
   "source": [
    "# Print out the number of rows and columns of the original dataset\n",
    "print()\n",
    "print(\"Properties of the original data frame. Rows: {0}, Columns: {1}\".format(movies.shape[0], movies.shape[1]))"
   ]
  },
  {
   "cell_type": "markdown",
   "metadata": {},
   "source": [
    "### Data Cleaning"
   ]
  },
  {
   "cell_type": "code",
   "execution_count": 4,
   "metadata": {
    "collapsed": false
   },
   "outputs": [
    {
     "name": "stdout",
     "output_type": "stream",
     "text": [
      "\n",
      "Properties of the data frame after selecting the interested columns. Rows: 10866, Columns: 12\n",
      "Properties of the data frame after dropping NA rows. Rows: 10866, Columns: 12\n"
     ]
    }
   ],
   "source": [
    "# Print out the number of rows after NA records were deleted\n",
    "print()\n",
    "# Select interested columns\n",
    "movies_df = movies[['id', 'popularity', 'budget', 'revenue' , 'original_title', 'cast', 'director', 'runtime', 'genres', 'release_date', 'vote_count', 'vote_average']]\n",
    "\n",
    "# Print out the caracteristics of the dataframe after selecting the interested columns\n",
    "print(\"Properties of the data frame after selecting the interested columns. Rows: {0}, Columns: {1}\".format(movies_df.shape[0], movies_df.shape[1]))\n",
    "\n",
    "# Drop movies that have NA in all columns\n",
    "movies_df = movies_df.dropna(how='all')\n",
    "\n",
    "# Print out the caracteristics of the dataframe after dropping NA rows\n",
    "print(\"Properties of the data frame after dropping NA rows. Rows: {0}, Columns: {1}\".format(movies_df.shape[0], movies_df.shape[1]))"
   ]
  },
  {
   "cell_type": "markdown",
   "metadata": {},
   "source": [
    "### Data Transformation\n",
    "\n",
    "In this section, I create extra variables to hold additional information about the movies."
   ]
  },
  {
   "cell_type": "markdown",
   "metadata": {},
   "source": [
    "#### Movies main genre"
   ]
  },
  {
   "cell_type": "code",
   "execution_count": 5,
   "metadata": {
    "collapsed": false
   },
   "outputs": [
    {
     "name": "stdout",
     "output_type": "stream",
     "text": [
      "Properties of the data frame after dropping movies without genre. Rows: 10843, Columns: 12\n",
      "\n"
     ]
    },
    {
     "data": {
      "text/html": [
       "<div>\n",
       "<table border=\"1\" class=\"dataframe\">\n",
       "  <thead>\n",
       "    <tr style=\"text-align: right;\">\n",
       "      <th></th>\n",
       "      <th>genres</th>\n",
       "      <th>main_genre</th>\n",
       "    </tr>\n",
       "  </thead>\n",
       "  <tbody>\n",
       "    <tr>\n",
       "      <th>0</th>\n",
       "      <td>Action|Adventure|Science Fiction|Thriller</td>\n",
       "      <td>Action</td>\n",
       "    </tr>\n",
       "    <tr>\n",
       "      <th>1</th>\n",
       "      <td>Action|Adventure|Science Fiction|Thriller</td>\n",
       "      <td>Action</td>\n",
       "    </tr>\n",
       "    <tr>\n",
       "      <th>2</th>\n",
       "      <td>Adventure|Science Fiction|Thriller</td>\n",
       "      <td>Adventure</td>\n",
       "    </tr>\n",
       "    <tr>\n",
       "      <th>3</th>\n",
       "      <td>Action|Adventure|Science Fiction|Fantasy</td>\n",
       "      <td>Action</td>\n",
       "    </tr>\n",
       "    <tr>\n",
       "      <th>4</th>\n",
       "      <td>Action|Crime|Thriller</td>\n",
       "      <td>Action</td>\n",
       "    </tr>\n",
       "  </tbody>\n",
       "</table>\n",
       "</div>"
      ],
      "text/plain": [
       "                                      genres main_genre\n",
       "0  Action|Adventure|Science Fiction|Thriller     Action\n",
       "1  Action|Adventure|Science Fiction|Thriller     Action\n",
       "2         Adventure|Science Fiction|Thriller  Adventure\n",
       "3   Action|Adventure|Science Fiction|Fantasy     Action\n",
       "4                      Action|Crime|Thriller     Action"
      ]
     },
     "execution_count": 5,
     "metadata": {},
     "output_type": "execute_result"
    }
   ],
   "source": [
    "# Drop movies with NA as genre\n",
    "movies_df = movies_df[pd.notnull(movies_df.genres)]\n",
    "\n",
    "# Print out the characteristics of the dataframe after dropping movies without genre\n",
    "print(\"Properties of the data frame after dropping movies without genre. Rows: {0}, Columns: {1}\".format(movies_df.shape[0], movies_df.shape[1]))\n",
    "print()\n",
    "\n",
    "# Create a column to hold the movies' main genre\n",
    "def main_genre(movie):\n",
    "    return movie.genres.split('|')[0]\n",
    "\n",
    "movies_df = movies_df.assign(main_genre=movies_df.apply(main_genre, axis=1))\n",
    "movies_df.head(5)[['genres','main_genre']]"
   ]
  },
  {
   "cell_type": "markdown",
   "metadata": {},
   "source": [
    "#### Movies season release"
   ]
  },
  {
   "cell_type": "code",
   "execution_count": 6,
   "metadata": {
    "collapsed": false
   },
   "outputs": [
    {
     "name": "stdout",
     "output_type": "stream",
     "text": [
      "Properties of the data frame after dropping movies without genre. Rows: 10843, Columns: 13\n",
      "\n"
     ]
    },
    {
     "data": {
      "text/html": [
       "<div>\n",
       "<table border=\"1\" class=\"dataframe\">\n",
       "  <thead>\n",
       "    <tr style=\"text-align: right;\">\n",
       "      <th></th>\n",
       "      <th>release_date</th>\n",
       "      <th>season</th>\n",
       "    </tr>\n",
       "  </thead>\n",
       "  <tbody>\n",
       "    <tr>\n",
       "      <th>0</th>\n",
       "      <td>6/9/15</td>\n",
       "      <td>summer</td>\n",
       "    </tr>\n",
       "    <tr>\n",
       "      <th>1</th>\n",
       "      <td>5/13/15</td>\n",
       "      <td>spring</td>\n",
       "    </tr>\n",
       "    <tr>\n",
       "      <th>2</th>\n",
       "      <td>3/18/15</td>\n",
       "      <td>spring</td>\n",
       "    </tr>\n",
       "    <tr>\n",
       "      <th>3</th>\n",
       "      <td>12/15/15</td>\n",
       "      <td>winter</td>\n",
       "    </tr>\n",
       "    <tr>\n",
       "      <th>4</th>\n",
       "      <td>4/1/15</td>\n",
       "      <td>spring</td>\n",
       "    </tr>\n",
       "  </tbody>\n",
       "</table>\n",
       "</div>"
      ],
      "text/plain": [
       "  release_date  season\n",
       "0       6/9/15  summer\n",
       "1      5/13/15  spring\n",
       "2      3/18/15  spring\n",
       "3     12/15/15  winter\n",
       "4       4/1/15  spring"
      ]
     },
     "execution_count": 6,
     "metadata": {},
     "output_type": "execute_result"
    }
   ],
   "source": [
    "# Create a column to hold the season (winter, summer, fall, spring) in which the movie was released\n",
    "from datetime import datetime\n",
    "\n",
    "# Drop movies with NA as release date\n",
    "movies_df = movies_df[pd.notnull(movies_df.release_date)]\n",
    "\n",
    "# Print out the characteristics of the dataframe after dropping movies without release date\n",
    "print(\"Properties of the data frame after dropping movies without genre. Rows: {0}, Columns: {1}\".format(movies_df.shape[0], movies_df.shape[1]))\n",
    "print()\n",
    "\n",
    "def season_movie(movie):\n",
    "    movie_rd = movie['release_date']\n",
    "    rd = datetime.strptime(movie_rd, \"%m/%d/%y\")\n",
    "    if rd.month in (12, 1, 2):\n",
    "        return 'winter'\n",
    "    elif rd.month in (3, 4, 5):\n",
    "        return 'spring'\n",
    "    elif rd.month in (6, 7, 8):\n",
    "        return 'summer'\n",
    "    elif rd.month in (9, 10, 11):\n",
    "        return 'fall'\n",
    "    else:\n",
    "        return 'unknown'\n",
    "\n",
    "movies_df = movies_df.assign(season=movies_df.apply(season_movie, axis=1))\n",
    "movies_df.head(5)[['release_date','season']]"
   ]
  },
  {
   "cell_type": "markdown",
   "metadata": {},
   "source": [
    "#### Movies title length"
   ]
  },
  {
   "cell_type": "code",
   "execution_count": 7,
   "metadata": {
    "collapsed": false
   },
   "outputs": [
    {
     "name": "stdout",
     "output_type": "stream",
     "text": [
      "Properties of the data frame after dropping movies without genre. Rows: 10843, Columns: 14\n",
      "\n"
     ]
    },
    {
     "data": {
      "text/html": [
       "<div>\n",
       "<table border=\"1\" class=\"dataframe\">\n",
       "  <thead>\n",
       "    <tr style=\"text-align: right;\">\n",
       "      <th></th>\n",
       "      <th>original_title</th>\n",
       "      <th>title_length</th>\n",
       "    </tr>\n",
       "  </thead>\n",
       "  <tbody>\n",
       "    <tr>\n",
       "      <th>0</th>\n",
       "      <td>Jurassic World</td>\n",
       "      <td>14</td>\n",
       "    </tr>\n",
       "    <tr>\n",
       "      <th>1</th>\n",
       "      <td>Mad Max: Fury Road</td>\n",
       "      <td>18</td>\n",
       "    </tr>\n",
       "    <tr>\n",
       "      <th>2</th>\n",
       "      <td>Insurgent</td>\n",
       "      <td>9</td>\n",
       "    </tr>\n",
       "    <tr>\n",
       "      <th>3</th>\n",
       "      <td>Star Wars: The Force Awakens</td>\n",
       "      <td>28</td>\n",
       "    </tr>\n",
       "    <tr>\n",
       "      <th>4</th>\n",
       "      <td>Furious 7</td>\n",
       "      <td>9</td>\n",
       "    </tr>\n",
       "  </tbody>\n",
       "</table>\n",
       "</div>"
      ],
      "text/plain": [
       "                 original_title  title_length\n",
       "0                Jurassic World            14\n",
       "1            Mad Max: Fury Road            18\n",
       "2                     Insurgent             9\n",
       "3  Star Wars: The Force Awakens            28\n",
       "4                     Furious 7             9"
      ]
     },
     "execution_count": 7,
     "metadata": {},
     "output_type": "execute_result"
    }
   ],
   "source": [
    "# Create a column to hold the length of the movies' title\n",
    "\n",
    "# Drop movies with NA as title\n",
    "movies_df = movies_df[pd.notnull(movies_df.original_title)]\n",
    "\n",
    "# Print out the characteristics of the dataframe after dropping movies without release date\n",
    "print(\"Properties of the data frame after dropping movies without genre. Rows: {0}, Columns: {1}\".format(movies_df.shape[0], movies_df.shape[1]))\n",
    "print()\n",
    "\n",
    "def title_length(movie):\n",
    "    title = movie['original_title']\n",
    "    return len(title)\n",
    "\n",
    "movies_df = movies_df.assign(title_length=movies_df.apply(title_length, axis=1))\n",
    "movies_df.head(5)[['original_title','title_length']]"
   ]
  },
  {
   "cell_type": "markdown",
   "metadata": {},
   "source": [
    "<a id='eda'></a>\n",
    "## Exploratory Data Analysis"
   ]
  },
  {
   "cell_type": "markdown",
   "metadata": {},
   "source": [
    "### RQ1: Is there a correlation between the offline popularity of a movie and its popularity in TMDb?"
   ]
  },
  {
   "cell_type": "markdown",
   "metadata": {},
   "source": [
    "To measure offline popularity, we will use the __revenue__ of the movies as the proxy while the metric __popularity__ measures the success of the movies in TMDb. Please refer [here](https://developers.themoviedb.org/3/getting-started/popularity) for more information about how TMDb builds the metric popularity."
   ]
  },
  {
   "cell_type": "code",
   "execution_count": 8,
   "metadata": {
    "collapsed": false
   },
   "outputs": [
    {
     "name": "stdout",
     "output_type": "stream",
     "text": [
      "Properties of the data frame after dropping movies with NA in the interested variables. Rows: 10843, Columns: 3\n",
      "\n"
     ]
    }
   ],
   "source": [
    "# Select columns\n",
    "movies_rq1 = movies_df[['revenue','popularity','vote_count']]\n",
    "\n",
    "# Drop movies with NA in revenue and popularity\n",
    "movies_rq1 = movies_rq1.dropna()\n",
    "\n",
    "# Print out the characteristics of the dataset to be used in the analysis\n",
    "print(\"Properties of the data frame after dropping movies with NA in the interested variables. Rows: {0}, Columns: {1}\".format(movies_rq1.shape[0], movies_rq1.shape[1]))\n",
    "print()"
   ]
  },
  {
   "cell_type": "code",
   "execution_count": 9,
   "metadata": {
    "collapsed": false
   },
   "outputs": [
    {
     "data": {
      "image/png": "[encoded data removed]",
      "text/plain": [
       "<matplotlib.figure.Figure at 0x1195d80b8>"
      ]
     },
     "metadata": {},
     "output_type": "display_data"
    }
   ],
   "source": [
    "# Visualize the relationship between the variables\n",
    "plt.plot('revenue', 'popularity', data=movies_rq1, linestyle='none', marker='o')\n",
    "plt.xlabel('Revenue', fontsize=12)\n",
    "plt.ylabel('Popularity', fontsize=12)\n",
    "sp_chart = plt.title('Relationship between Movie Popularity and Revenue', fontsize=14)"
   ]
  },
  {
   "cell_type": "code",
   "execution_count": 10,
   "metadata": {
    "collapsed": false
   },
   "outputs": [
    {
     "name": "stdout",
     "output_type": "stream",
     "text": [
      "The correlation between popularity and revenue is: 0.6632661935606454\n"
     ]
    }
   ],
   "source": [
    "# Compute correlation\n",
    "x = np.array(movies_rq1['revenue'])\n",
    "y = np.array(movies_rq1['popularity'])\n",
    "cor_x_y = np.corrcoef(x,y)[0][1]\n",
    "print('The correlation between popularity and revenue is: {0}'.format(cor_x_y))"
   ]
  },
  {
   "cell_type": "markdown",
   "metadata": {},
   "source": [
    "Interestingly, the movies' popularity in TMDb show be highly and positively correlated with incomes of the movies (cor=0.66). Motivated by the previous result, next we are interested in understanding whether the movies' revenue is also correlated with the number of votes cast by the movie in TMDb. To answer the question, we check the correlation between __revenue__ and __vote_count__."
   ]
  },
  {
   "cell_type": "code",
   "execution_count": 11,
   "metadata": {
    "collapsed": false
   },
   "outputs": [
    {
     "data": {
      "image/png": "[encoded data removed]",
      "text/plain": [
       "<matplotlib.figure.Figure at 0x118046390>"
      ]
     },
     "metadata": {},
     "output_type": "display_data"
    }
   ],
   "source": [
    "# Visualize the relationship between the variables\n",
    "plt.plot('revenue', 'vote_count', data=movies_rq1, linestyle='none', marker='o')\n",
    "plt.xlabel('Revenue', fontsize=12)\n",
    "plt.ylabel('Vote Count', fontsize=12)\n",
    "sp_chart = plt.title('Relationship between Movie Vote Count and Revenue', fontsize=14)"
   ]
  },
  {
   "cell_type": "code",
   "execution_count": 12,
   "metadata": {
    "collapsed": false
   },
   "outputs": [
    {
     "name": "stdout",
     "output_type": "stream",
     "text": [
      "The correlation between number of votes of the movies and their revenue is: 0.7911227959310511\n"
     ]
    }
   ],
   "source": [
    "# Compute correlation\n",
    "x = np.array(movies_rq1['revenue'])\n",
    "y = np.array(movies_rq1['vote_count'])\n",
    "cor_x_y = np.corrcoef(x,y)[0][1]\n",
    "print('The correlation between number of votes of the movies and their revenue is: {0}'.format(cor_x_y))"
   ]
  },
  {
   "cell_type": "markdown",
   "metadata": {},
   "source": [
    "### RQ2: Which are the properties of the most high-rated movies in TMDb?"
   ]
  },
  {
   "cell_type": "markdown",
   "metadata": {},
   "source": [
    "The rating of the movies will be measured through the __popularity__ variable. For the properties of the movies, we will consider the following variables available in the dataset: **budget** and **runtime**. Also, we will use for this analysis the variables we generated before to the movies' **main_genre**, the **length** of their original title, and their **season** of release."
   ]
  },
  {
   "cell_type": "code",
   "execution_count": 13,
   "metadata": {
    "collapsed": false
   },
   "outputs": [
    {
     "name": "stdout",
     "output_type": "stream",
     "text": [
      "Properties of the data frame after dropping movies with NA in the interested variables. Rows: 10843, Columns: 6\n",
      "\n"
     ]
    }
   ],
   "source": [
    "# Selected the interested variables\n",
    "i_movies_df = movies_df[['popularity', 'budget', 'runtime', 'main_genre', 'title_length', 'season']]\n",
    "\n",
    "# # Drop movies with NA in revenue and popularity\n",
    "i_movies_df = i_movies_df.dropna()\n",
    "\n",
    "# Print out the characteristics of the dataset to be used in the analysis\n",
    "print(\"Properties of the data frame after dropping movies with NA in the interested variables. Rows: {0}, Columns: {1}\".format(i_movies_df.shape[0], i_movies_df.shape[1]))\n",
    "print()"
   ]
  },
  {
   "cell_type": "markdown",
   "metadata": {},
   "source": [
    "#### Present describe statistics for the entire dataset"
   ]
  },
  {
   "cell_type": "code",
   "execution_count": 14,
   "metadata": {
    "collapsed": false
   },
   "outputs": [
    {
     "data": {
      "text/html": [
       "<div>\n",
       "<table border=\"1\" class=\"dataframe\">\n",
       "  <thead>\n",
       "    <tr style=\"text-align: right;\">\n",
       "      <th></th>\n",
       "      <th>popularity</th>\n",
       "      <th>budget</th>\n",
       "      <th>runtime</th>\n",
       "      <th>title_length</th>\n",
       "    </tr>\n",
       "  </thead>\n",
       "  <tbody>\n",
       "    <tr>\n",
       "      <th>count</th>\n",
       "      <td>10843.000000</td>\n",
       "      <td>1.084300e+04</td>\n",
       "      <td>10843.000000</td>\n",
       "      <td>10843.000000</td>\n",
       "    </tr>\n",
       "    <tr>\n",
       "      <th>mean</th>\n",
       "      <td>0.647456</td>\n",
       "      <td>1.465672e+07</td>\n",
       "      <td>102.137508</td>\n",
       "      <td>15.990409</td>\n",
       "    </tr>\n",
       "    <tr>\n",
       "      <th>std</th>\n",
       "      <td>1.000986</td>\n",
       "      <td>3.093864e+07</td>\n",
       "      <td>31.293320</td>\n",
       "      <td>9.108798</td>\n",
       "    </tr>\n",
       "    <tr>\n",
       "      <th>min</th>\n",
       "      <td>0.000065</td>\n",
       "      <td>0.000000e+00</td>\n",
       "      <td>0.000000</td>\n",
       "      <td>1.000000</td>\n",
       "    </tr>\n",
       "    <tr>\n",
       "      <th>25%</th>\n",
       "      <td>0.208253</td>\n",
       "      <td>0.000000e+00</td>\n",
       "      <td>90.000000</td>\n",
       "      <td>10.000000</td>\n",
       "    </tr>\n",
       "    <tr>\n",
       "      <th>50%</th>\n",
       "      <td>0.384555</td>\n",
       "      <td>0.000000e+00</td>\n",
       "      <td>99.000000</td>\n",
       "      <td>14.000000</td>\n",
       "    </tr>\n",
       "    <tr>\n",
       "      <th>75%</th>\n",
       "      <td>0.715349</td>\n",
       "      <td>1.500000e+07</td>\n",
       "      <td>111.000000</td>\n",
       "      <td>20.000000</td>\n",
       "    </tr>\n",
       "    <tr>\n",
       "      <th>max</th>\n",
       "      <td>32.985763</td>\n",
       "      <td>4.250000e+08</td>\n",
       "      <td>900.000000</td>\n",
       "      <td>104.000000</td>\n",
       "    </tr>\n",
       "  </tbody>\n",
       "</table>\n",
       "</div>"
      ],
      "text/plain": [
       "         popularity        budget       runtime  title_length\n",
       "count  10843.000000  1.084300e+04  10843.000000  10843.000000\n",
       "mean       0.647456  1.465672e+07    102.137508     15.990409\n",
       "std        1.000986  3.093864e+07     31.293320      9.108798\n",
       "min        0.000065  0.000000e+00      0.000000      1.000000\n",
       "25%        0.208253  0.000000e+00     90.000000     10.000000\n",
       "50%        0.384555  0.000000e+00     99.000000     14.000000\n",
       "75%        0.715349  1.500000e+07    111.000000     20.000000\n",
       "max       32.985763  4.250000e+08    900.000000    104.000000"
      ]
     },
     "execution_count": 14,
     "metadata": {},
     "output_type": "execute_result"
    }
   ],
   "source": [
    "i_movies_df.describe()"
   ]
  },
  {
   "cell_type": "markdown",
   "metadata": {},
   "source": [
    "#### The top-5 main genres"
   ]
  },
  {
   "cell_type": "code",
   "execution_count": 15,
   "metadata": {
    "collapsed": false
   },
   "outputs": [
    {
     "data": {
      "image/png": "[encoded data removed]",
      "text/plain": [
       "<matplotlib.figure.Figure at 0x11827d780>"
      ]
     },
     "metadata": {},
     "output_type": "display_data"
    }
   ],
   "source": [
    "top5_genres = pd.crosstab(index=i_movies_df[\"main_genre\"], columns=\"count\").sort_values('count', ascending=False). \\\n",
    "              head(5).to_dict()['count']\n",
    "plt.bar(range(len(top5_genres)), top5_genres.values(), align='center')\n",
    "plt.xticks(range(len(top5_genres)), top5_genres.keys())\n",
    "plt.xlabel('Genres', fontsize=12)\n",
    "plt.ylabel('Movie Count', fontsize=12)\n",
    "bar_chart = plt.title('Distribution of movies by genres', fontsize=14)"
   ]
  },
  {
   "cell_type": "markdown",
   "metadata": {},
   "source": [
    "#### Number of movies released per season"
   ]
  },
  {
   "cell_type": "code",
   "execution_count": 16,
   "metadata": {
    "collapsed": false
   },
   "outputs": [
    {
     "data": {
      "image/png": "[encoded data removed]",
      "text/plain": [
       "<matplotlib.figure.Figure at 0x117b06a20>"
      ]
     },
     "metadata": {},
     "output_type": "display_data"
    }
   ],
   "source": [
    "movies_per_season = pd.crosstab(index=i_movies_df[\"season\"], columns=\"count\").sort_values('count', ascending=False). \\\n",
    "                    to_dict()['count']\n",
    "plt.bar(range(len(movies_per_season)), movies_per_season.values(), align='center', color='green')\n",
    "plt.xticks(range(len(movies_per_season)), movies_per_season.keys())\n",
    "plt.xlabel('Season', fontsize=12)\n",
    "plt.ylabel('Movie Count', fontsize=12)\n",
    "bar_chart2 = plt.title('Distribution of movies released per season', fontsize=14)"
   ]
  },
  {
   "cell_type": "markdown",
   "metadata": {},
   "source": [
    "#### Split the dataset in to two groups: the top-50 high-rated movies and the rest"
   ]
  },
  {
   "cell_type": "code",
   "execution_count": 17,
   "metadata": {
    "collapsed": true
   },
   "outputs": [],
   "source": [
    "# Sort the data from high to low popularity\n",
    "i_movies_df = i_movies_df.sort_values('popularity', ascending=False)\n",
    "i_50_movies_df = i_movies_df[:50]\n",
    "i_51_movies_df = i_movies_df[51:]"
   ]
  },
  {
   "cell_type": "markdown",
   "metadata": {},
   "source": [
    "#### Show the average properties of both groups, the 50 most high-rated movies and the rest"
   ]
  },
  {
   "cell_type": "code",
   "execution_count": 18,
   "metadata": {
    "collapsed": false
   },
   "outputs": [
    {
     "data": {
      "text/html": [
       "<div>\n",
       "<table border=\"1\" class=\"dataframe\">\n",
       "  <thead>\n",
       "    <tr style=\"text-align: right;\">\n",
       "      <th></th>\n",
       "      <th>popularity</th>\n",
       "      <th>budget</th>\n",
       "      <th>runtime</th>\n",
       "      <th>title_length (num_char)</th>\n",
       "    </tr>\n",
       "  </thead>\n",
       "  <tbody>\n",
       "    <tr>\n",
       "      <th>top-50</th>\n",
       "      <td>9.471139</td>\n",
       "      <td>1.115000e+08</td>\n",
       "      <td>130.000000</td>\n",
       "      <td>18.720000</td>\n",
       "    </tr>\n",
       "    <tr>\n",
       "      <th>rest</th>\n",
       "      <td>0.606070</td>\n",
       "      <td>1.420292e+07</td>\n",
       "      <td>102.003706</td>\n",
       "      <td>15.977391</td>\n",
       "    </tr>\n",
       "  </tbody>\n",
       "</table>\n",
       "</div>"
      ],
      "text/plain": [
       "        popularity        budget     runtime  title_length (num_char)\n",
       "top-50    9.471139  1.115000e+08  130.000000                18.720000\n",
       "rest      0.606070  1.420292e+07  102.003706                15.977391"
      ]
     },
     "execution_count": 18,
     "metadata": {},
     "output_type": "execute_result"
    }
   ],
   "source": [
    "mean_50 = i_50_movies_df.describe().iloc[1].tolist()\n",
    "mean_51 = i_51_movies_df.describe().iloc[1].tolist()\n",
    "pd.DataFrame(data=[mean_50, mean_51], \n",
    "             columns=['popularity', 'budget', 'runtime', 'title_length (num_char)'],\n",
    "             index=['top-50', 'rest'])"
   ]
  },
  {
   "cell_type": "markdown",
   "metadata": {},
   "source": [
    "#### Show the list of main genres in both groups"
   ]
  },
  {
   "cell_type": "code",
   "execution_count": 19,
   "metadata": {
    "collapsed": false
   },
   "outputs": [
    {
     "data": {
      "text/html": [
       "<div>\n",
       "<table border=\"1\" class=\"dataframe\">\n",
       "  <thead>\n",
       "    <tr style=\"text-align: right;\">\n",
       "      <th></th>\n",
       "      <th>Rank1</th>\n",
       "      <th>Rank2</th>\n",
       "      <th>Rank3</th>\n",
       "      <th>Rank4</th>\n",
       "      <th>Rank5</th>\n",
       "    </tr>\n",
       "  </thead>\n",
       "  <tbody>\n",
       "    <tr>\n",
       "      <th>top-50</th>\n",
       "      <td>Action</td>\n",
       "      <td>Adventure</td>\n",
       "      <td>Drama</td>\n",
       "      <td>Science Fiction</td>\n",
       "      <td>Comedy</td>\n",
       "    </tr>\n",
       "    <tr>\n",
       "      <th>rest</th>\n",
       "      <td>Drama</td>\n",
       "      <td>Comedy</td>\n",
       "      <td>Action</td>\n",
       "      <td>Horror</td>\n",
       "      <td>Adventure</td>\n",
       "    </tr>\n",
       "  </tbody>\n",
       "</table>\n",
       "</div>"
      ],
      "text/plain": [
       "         Rank1      Rank2   Rank3            Rank4      Rank5\n",
       "top-50  Action  Adventure   Drama  Science Fiction     Comedy\n",
       "rest     Drama     Comedy  Action           Horror  Adventure"
      ]
     },
     "execution_count": 19,
     "metadata": {},
     "output_type": "execute_result"
    }
   ],
   "source": [
    "main_genres_i50 = pd.crosstab(index=i_50_movies_df['main_genre'], columns=['count']). \\\n",
    "                  sort_values(by='count', ascending=False).head(5).to_dict()['count']\n",
    "main_genres_i51 = pd.crosstab(index=i_51_movies_df['main_genre'], columns=['count']). \\\n",
    "                  sort_values(by='count', ascending=False).head(5).to_dict()['count']\n",
    "pd.DataFrame(data=[main_genres_i50.keys(), main_genres_i51.keys()],\n",
    "             columns=['Rank1', 'Rank2', 'Rank3', 'Rank4', 'Rank5'],\n",
    "             index=['top-50', 'rest'])"
   ]
  },
  {
   "cell_type": "markdown",
   "metadata": {},
   "source": [
    "#### Show the number of movies per season in both groups"
   ]
  },
  {
   "cell_type": "code",
   "execution_count": 20,
   "metadata": {
    "collapsed": false
   },
   "outputs": [
    {
     "data": {
      "text/html": [
       "<div>\n",
       "<table border=\"1\" class=\"dataframe\">\n",
       "  <thead>\n",
       "    <tr style=\"text-align: right;\">\n",
       "      <th></th>\n",
       "      <th>Rank1</th>\n",
       "      <th>Rank2</th>\n",
       "      <th>Rank3</th>\n",
       "      <th>Rank4</th>\n",
       "    </tr>\n",
       "  </thead>\n",
       "  <tbody>\n",
       "    <tr>\n",
       "      <th>top-50</th>\n",
       "      <td>fall</td>\n",
       "      <td>summer</td>\n",
       "      <td>winter</td>\n",
       "      <td>spring</td>\n",
       "    </tr>\n",
       "    <tr>\n",
       "      <th>rest</th>\n",
       "      <td>fall</td>\n",
       "      <td>winter</td>\n",
       "      <td>summer</td>\n",
       "      <td>spring</td>\n",
       "    </tr>\n",
       "  </tbody>\n",
       "</table>\n",
       "</div>"
      ],
      "text/plain": [
       "       Rank1   Rank2   Rank3   Rank4\n",
       "top-50  fall  summer  winter  spring\n",
       "rest    fall  winter  summer  spring"
      ]
     },
     "execution_count": 20,
     "metadata": {},
     "output_type": "execute_result"
    }
   ],
   "source": [
    "seasons_i50 = pd.crosstab(index=i_50_movies_df['season'], columns='count'). \\\n",
    "              sort_values(by='count', ascending=False).to_dict()['count']\n",
    "seasons_i51 = pd.crosstab(index=i_51_movies_df['season'], columns='count'). \\\n",
    "              sort_values(by='count', ascending=False).to_dict()['count']\n",
    "pd.DataFrame(data=[seasons_i50.keys(), seasons_i51.keys()],\n",
    "             columns=['Rank1', 'Rank2', 'Rank3', 'Rank4'],\n",
    "             index=['top-50', 'rest'])"
   ]
  },
  {
   "cell_type": "markdown",
   "metadata": {},
   "source": [
    "<a id='conclusions'></a>\n",
    "## Conclusions"
   ]
  },
  {
   "cell_type": "markdown",
   "metadata": {
    "collapsed": true
   },
   "source": [
    "### RQ1: Is there a correlation between the offline popularity of a movie and its popularity in TMDb?\n",
    "\n",
    "We found that the movies' popularity in TMDb shows to be highly and positively correlated with incomes of the movies (cor=0.64). Moreover, we saw that the revenue of a movie is associated (cor=0.80) with the number of votes casted by the movie in TMDb. So, it seems that there is some sort of association between the success of movies in the box offices and their online valuation."
   ]
  },
  {
   "cell_type": "markdown",
   "metadata": {},
   "source": [
    "### RQ2: Which are the properties of the most high-rated movies in TMDb?\n",
    "\n",
    "Through the last analyses, we found some interesting properties that distinguished the top-50 high-rated movies from the rest. Fist, we saw that the top-50 high-rated movies invest more economic resources in their production than the rest. Also, we discovered that they are longer and named with longer titles. Besides, we found that their primary genres are, in general, different from the rest. The top-50 high-rated movies are mainly action and adventure films while the rest are more drama and comedy movies. However, we didn't find differences concerning the season release of the movies in both groups. In both cases, the periods of most premiers are fall and summer.\n",
    "\n",
    "We haven't measure whether the discovered differences are significant, but from the results above there are some final comments we want to make. While it might be evident that expensive movies have higher chances of being successful, it is important to highlight the three aspects that characterize popular movies, which should be taken into account by producers. First, high-rated movies are longer, which seems to indicate that probably people like movies that spend more time in developing the story. Second, movies that attract the attention of the Internet users are usually those with high energy and exciting stories."
   ]
  }
 ],
 "metadata": {
  "kernelspec": {
   "display_name": "Python 3",
   "language": "python",
   "name": "python3"
  },
  "language_info": {
   "codemirror_mode": {
    "name": "ipython",
    "version": 3
   },
   "file_extension": ".py",
   "mimetype": "text/x-python",
   "name": "python",
   "nbconvert_exporter": "python",
   "pygments_lexer": "ipython3",
   "version": "3.6.0"
  }
 },
 "nbformat": 4,
 "nbformat_minor": 2
}
